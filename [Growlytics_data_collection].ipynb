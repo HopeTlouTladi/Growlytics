{
 "cells": [
  {
   "cell_type": "markdown",
   "id": "ffe3ea00-1bf5-4889-bd9d-4c3b0711d77c",
   "metadata": {},
   "source": [
    "## SOCIAL MEDIA GROWTH SIMULATION FOR HOPE TLADI"
   ]
  },
  {
   "cell_type": "markdown",
   "id": "d6c8df71-4ae6-4bf0-8800-a94a9f002489",
   "metadata": {},
   "source": [
    "### In this project I wanted to know how I can best grow my social media following "
   ]
  },
  {
   "cell_type": "code",
   "execution_count": 1,
   "id": "919586c3-e962-43f2-8347-ffa156813b32",
   "metadata": {},
   "outputs": [],
   "source": [
    "#### the dataset used for this project is from Meta(my personal instagram account activity,intagram handle @Hope Tladi)."
   ]
  },
  {
   "cell_type": "code",
   "execution_count": 2,
   "id": "079691fc-bb7d-4d87-8852-a581d4831479",
   "metadata": {},
   "outputs": [],
   "source": [
    "\n",
    "# Data manipulation and analysis\n",
    "import pandas as pd\n",
    "import numpy as np\n",
    "from scipy import stats\n",
    "import json\n",
    "\n",
    "# Simulation and modeling\n",
    "import simpy\n",
    "import networkx as nx\n",
    "# Mesa is typically used as a framework, not a single import\n",
    "\n",
    "# Machine learning and forecasting\n",
    "from sklearn.linear_model import LinearRegression\n",
    "import statsmodels.api as sm\n",
    "from prophet import Prophet\n",
    "\n",
    "# Visualization\n",
    "import matplotlib.pyplot as plt\n",
    "import seaborn as sns\n",
    "import plotly.express as px\n",
    "\n",
    "# HTML parsing and web scraping\n",
    "from bs4 import BeautifulSoup\n",
    "import requests\n",
    "\n",
    "# Utility and optional tools\n",
    "from faker import Faker\n",
    "import datetime\n",
    "import random\n",
    "from joblib import Parallel, delayed\n"
   ]
  },
  {
   "cell_type": "code",
   "execution_count": 8,
   "id": "0610b4f5-ee9d-4c27-a3ac-4357a97afa92",
   "metadata": {},
   "outputs": [],
   "source": [
    "folder_path = r'C:\\Users\\tladi\\Desktop\\files for my instaproject'"
   ]
  },
  {
   "cell_type": "code",
   "execution_count": 9,
   "id": "b52eb93b-70a9-4c21-8354-afb4e22a846d",
   "metadata": {},
   "outputs": [],
   "source": [
    "## create dataframe for each and store them in a dictionary"
   ]
  },
  {
   "cell_type": "code",
   "execution_count": 10,
   "id": "2274df59-967a-4ed0-94d5-2d7015875190",
   "metadata": {},
   "outputs": [],
   "source": [
    "import json"
   ]
  },
  {
   "cell_type": "code",
   "execution_count": 11,
   "id": "966ec9f7-e6c8-4909-9215-8243a9c0b067",
   "metadata": {},
   "outputs": [
    {
     "name": "stdout",
     "output_type": "stream",
     "text": [
      "Loaded DataFrames: ['followers_1.json', 'following.json', 'posts_viewed.json', 'recently_unfollowed_profiles.json', 'story_likes.json', 'story_reaction_sticker_reactions.json', 'videos_watched.json']\n"
     ]
    }
   ],
   "source": [
    "import os\n",
    "# Dictionary to store each DataFrame\n",
    "dataframes = {}\n",
    "\n",
    "# Loop through JSON files and load into individual DataFrames\n",
    "for filename in os.listdir(folder_path):\n",
    "    if filename.endswith('.json'):\n",
    "        file_path = os.path.join(folder_path, filename)\n",
    "        with open(file_path, 'r', encoding='utf-8') as file:\n",
    "            try:\n",
    "                data = json.load(file)\n",
    "                \n",
    "                # Attempt to convert to DataFrame\n",
    "                if isinstance(data, list):\n",
    "                    df = pd.DataFrame(data)\n",
    "                elif isinstance(data, dict):\n",
    "                    df = pd.DataFrame([data])  # wrap dict into a list\n",
    "                else:\n",
    "                    print(f\"Skipping {filename}: Unsupported data format\")\n",
    "                    continue\n",
    "                \n",
    "                # Add filename as a source column (optional but useful)\n",
    "                df['source_file'] = filename\n",
    "                \n",
    "                # Store the DataFrame\n",
    "                dataframes[filename] = df\n",
    "\n",
    "            except json.JSONDecodeError as e:\n",
    "                print(f\"Error reading {filename}: {e}\")\n",
    "\n",
    "# Example: Display keys (i.e., file names)\n",
    "print(\"Loaded DataFrames:\", list(dataframes.keys()))\n"
   ]
  },
  {
   "cell_type": "code",
   "execution_count": 12,
   "id": "c21a3089-1431-45a9-b274-3ce057a0e4da",
   "metadata": {},
   "outputs": [],
   "source": [
    "## inspecting each dataframe's structure"
   ]
  },
  {
   "cell_type": "code",
   "execution_count": 13,
   "id": "128853fa-5bac-4445-a02c-52e2f605ceb2",
   "metadata": {},
   "outputs": [
    {
     "name": "stdout",
     "output_type": "stream",
     "text": [
      "\n",
      "followers_1.json:\n",
      "Index(['title', 'media_list_data', 'string_list_data', 'source_file'], dtype='object')\n",
      "\n",
      "following.json:\n",
      "Index(['relationships_following', 'source_file'], dtype='object')\n",
      "\n",
      "posts_viewed.json:\n",
      "Index(['impressions_history_posts_seen', 'source_file'], dtype='object')\n",
      "\n",
      "recently_unfollowed_profiles.json:\n",
      "Index(['relationships_unfollowed_users', 'source_file'], dtype='object')\n",
      "\n",
      "story_likes.json:\n",
      "Index(['story_activities_story_likes', 'source_file'], dtype='object')\n",
      "\n",
      "story_reaction_sticker_reactions.json:\n",
      "Index(['story_activities_reaction_sticker_reactions', 'source_file'], dtype='object')\n",
      "\n",
      "videos_watched.json:\n",
      "Index(['impressions_history_videos_watched', 'source_file'], dtype='object')\n"
     ]
    }
   ],
   "source": [
    "for name, df in dataframes.items():\n",
    "    print(f\"\\n{name}:\")\n",
    "    print(df.columns)\n"
   ]
  },
  {
   "cell_type": "code",
   "execution_count": 14,
   "id": "faf8d1e1-f903-4c3d-8a18-e1876fe77dc7",
   "metadata": {},
   "outputs": [],
   "source": [
    "# flatten all dataframes"
   ]
  },
  {
   "cell_type": "code",
   "execution_count": 15,
   "id": "6f5f6c7a-4217-4e63-80bc-ed805c3d1431",
   "metadata": {},
   "outputs": [
    {
     "name": "stdout",
     "output_type": "stream",
     "text": [
      "Index(['title', 'media_list_data', 'string_list_data', 'source_file'], dtype='object')\n"
     ]
    }
   ],
   "source": [
    "print(dataframes['followers_1.json'].columns)\n"
   ]
  },
  {
   "cell_type": "code",
   "execution_count": 16,
   "id": "1872b4ee-79c7-43e5-9ab7-11cc1185330f",
   "metadata": {},
   "outputs": [],
   "source": [
    "def flatten_followers(df, filename):\n",
    "    # Extract follower data from 'string_list_data' column\n",
    "    unpacked = pd.DataFrame(df['string_list_data'].explode().tolist())\n",
    "    unpacked['source_file'] = filename\n",
    "    return unpacked\n"
   ]
  },
  {
   "cell_type": "code",
   "execution_count": 17,
   "id": "63b67783-1674-42e2-b629-cfd661e18bd4",
   "metadata": {},
   "outputs": [],
   "source": [
    "followers_df = flatten_followers(dataframes['followers_1.json'], 'followers_1.json')\n",
    "followers_df['timestamp'] = pd.to_datetime(followers_df['timestamp'], unit='s', errors='coerce')\n"
   ]
  },
  {
   "cell_type": "code",
   "execution_count": 18,
   "id": "1d6df76f-adb8-4b1c-aa10-08f8de972faf",
   "metadata": {},
   "outputs": [
    {
     "name": "stdout",
     "output_type": "stream",
     "text": [
      "date\n",
      "2017-08-26    1\n",
      "2017-09-05    1\n",
      "2017-10-30    1\n",
      "2018-10-14    1\n",
      "2018-12-21    1\n",
      "Name: new_followers, dtype: int64\n"
     ]
    }
   ],
   "source": [
    "followers_df['date'] = followers_df['timestamp'].dt.date\n",
    "followers_daily = followers_df.groupby('date').size().rename(\"new_followers\")\n",
    "print(followers_daily.head())\n"
   ]
  },
  {
   "cell_type": "code",
   "execution_count": 19,
   "id": "650d3614-c96a-45a1-838b-693972cc93dc",
   "metadata": {},
   "outputs": [
    {
     "data": {
      "image/png": "[encoded data removed]",
      "text/plain": [
       "<Figure size 1200x500 with 1 Axes>"
      ]
     },
     "metadata": {},
     "output_type": "display_data"
    }
   ],
   "source": [
    "#Visualize Growth\n",
    "#Plot your followers_daily to identify spikes:\n",
    "\n",
    "followers_daily.plot(kind='line', figsize=(12, 5), title=\"New Followers Over Time\")\n",
    "plt.xlabel(\"Date\")\n",
    "plt.ylabel(\"New Followers\")\n",
    "plt.grid(True)\n",
    "plt.show()\n"
   ]
  },
  {
   "cell_type": "code",
   "execution_count": 20,
   "id": "29df1733-70f9-4765-9ca3-93841bbd4e8a",
   "metadata": {},
   "outputs": [
    {
     "name": "stdout",
     "output_type": "stream",
     "text": [
      "Index(['story_activities_story_likes', 'source_file'], dtype='object')\n"
     ]
    }
   ],
   "source": [
    "print(dataframes['story_likes.json'].columns)"
   ]
  },
  {
   "cell_type": "code",
   "execution_count": 21,
   "id": "b1f6d7cf-e0bc-4756-9f87-5d7d2b1af23f",
   "metadata": {},
   "outputs": [],
   "source": [
    "def flatten_story_likes(df, filename):\n",
    "    # Extract follower data from 'string_list_data' column\n",
    "    unpacked = pd.DataFrame(df['story_activities_story_likes'].explode().tolist())\n",
    "    unpacked['source_file'] = filename\n",
    "    return unpacked\n"
   ]
  },
  {
   "cell_type": "code",
   "execution_count": 24,
   "id": "b4ca0cc3-c87d-42b1-a9b0-f2c18edee851",
   "metadata": {},
   "outputs": [
    {
     "name": "stdout",
     "output_type": "stream",
     "text": [
      "Index(['title', 'string_list_data', 'source_file'], dtype='object')\n"
     ]
    }
   ],
   "source": [
    "print(story_likes_df.columns)\n"
   ]
  },
  {
   "cell_type": "code",
   "execution_count": 27,
   "id": "8c285cea-4992-4b01-8ee3-a0708945da0f",
   "metadata": {},
   "outputs": [],
   "source": [
    "story_likes_df['timestamp'] = story_likes_df['string_list_data'].apply(lambda x: x[0]['timestamp'] if isinstance(x, list) and 'timestamp' in x[0] else None)\n",
    "story_likes_df['timestamp'] = pd.to_datetime(story_likes_df['timestamp'], unit='s', errors='coerce')\n"
   ]
  },
  {
   "cell_type": "code",
   "execution_count": 32,
   "id": "e0d83059-be95-4ba1-ba5a-a312dc6cc8ab",
   "metadata": {},
   "outputs": [
    {
     "name": "stdout",
     "output_type": "stream",
     "text": [
      "Empty DataFrame\n",
      "Columns: [date, likes]\n",
      "Index: []\n"
     ]
    }
   ],
   "source": [
    "story_likes_df['date'] = story_likes_df['timestamp'].dt.date\n",
    "likes_per_day = story_likes_df.groupby('date').size().reset_index(name='likes')\n",
    "print(likes_per_day.head())"
   ]
  },
  {
   "cell_type": "code",
   "execution_count": null,
   "id": "bf6f0585-145b-40b5-8aba-8be2cf575a50",
   "metadata": {},
   "outputs": [],
   "source": []
  }
 ],
 "metadata": {
  "kernelspec": {
   "display_name": "Python 3 (ipykernel)",
   "language": "python",
   "name": "python3"
  },
  "language_info": {
   "codemirror_mode": {
    "name": "ipython",
    "version": 3
   },
   "file_extension": ".py",
   "mimetype": "text/x-python",
   "name": "python",
   "nbconvert_exporter": "python",
   "pygments_lexer": "ipython3",
   "version": "3.13.3"
  }
 },
 "nbformat": 4,
 "nbformat_minor": 5
}
